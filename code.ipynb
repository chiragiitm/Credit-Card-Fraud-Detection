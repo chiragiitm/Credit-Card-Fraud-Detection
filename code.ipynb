{
  "nbformat": 4,
  "nbformat_minor": 0,
  "metadata": {
    "colab": {
      "name": "final.ipynb",
      "provenance": [],
      "collapsed_sections": [
        "9PbyJaz-wBZL",
        "aCe8G5oswBZQ",
        "u-SfW1m3wBZU"
      ]
    },
    "kernelspec": {
      "display_name": "Python 3",
      "language": "python",
      "name": "python3"
    }
  },
  "cells": [
    {
      "cell_type": "code",
      "metadata": {
        "id": "YiDu5UmXwBYr"
      },
      "source": [
        "import numpy as np\n",
        "import pandas as pd\n",
        "import matplotlib.pyplot as plt\n",
        "%matplotlib inline\n",
        "import seaborn as sns"
      ],
      "execution_count": 1,
      "outputs": []
    },
    {
      "cell_type": "code",
      "metadata": {
        "id": "WPauEEy40pTn"
      },
      "source": [
        "# Code to read csv file into Colaboratory:\n",
        "!pip install -U -q PyDrive\n",
        "from pydrive.auth import GoogleAuth\n",
        "from pydrive.drive import GoogleDrive\n",
        "from google.colab import auth\n",
        "from oauth2client.client import GoogleCredentials\n",
        "# Authenticate and create the PyDrive client.\n",
        "auth.authenticate_user()\n",
        "gauth = GoogleAuth()\n",
        "gauth.credentials = GoogleCredentials.get_application_default()\n",
        "drive = GoogleDrive(gauth)"
      ],
      "execution_count": 2,
      "outputs": []
    },
    {
      "cell_type": "code",
      "metadata": {
        "id": "XtntM60i1TK0"
      },
      "source": [
        "link = 'https://drive.google.com/file/d/1bD3P4u0Va7kxo4rERbE638dQg0hd3Bvm/view?usp=sharing'"
      ],
      "execution_count": 3,
      "outputs": []
    },
    {
      "cell_type": "code",
      "metadata": {
        "id": "4tnkj5rn1aFc"
      },
      "source": [
        "id = '1bD3P4u0Va7kxo4rERbE638dQg0hd3Bvm'"
      ],
      "execution_count": 4,
      "outputs": []
    },
    {
      "cell_type": "code",
      "metadata": {
        "id": "aLqLzL931w0J"
      },
      "source": [
        "downloaded = drive.CreateFile({'id':id}) \n",
        "downloaded.GetContentFile('creditcard.csv')  \n",
        "df = pd.read_csv('creditcard.csv')\n",
        "# Dataset is now stored in a Pandas Dataframe"
      ],
      "execution_count": 5,
      "outputs": []
    },
    {
      "cell_type": "code",
      "metadata": {
        "id": "JdOZV8uWwBY0",
        "colab": {
          "base_uri": "https://localhost:8080/",
          "height": 224
        },
        "outputId": "79837124-5bfb-40c6-8dd0-90763b6d71dc"
      },
      "source": [
        "df.head()"
      ],
      "execution_count": 6,
      "outputs": [
        {
          "output_type": "execute_result",
          "data": {
            "text/html": [
              "<div>\n",
              "<style scoped>\n",
              "    .dataframe tbody tr th:only-of-type {\n",
              "        vertical-align: middle;\n",
              "    }\n",
              "\n",
              "    .dataframe tbody tr th {\n",
              "        vertical-align: top;\n",
              "    }\n",
              "\n",
              "    .dataframe thead th {\n",
              "        text-align: right;\n",
              "    }\n",
              "</style>\n",
              "<table border=\"1\" class=\"dataframe\">\n",
              "  <thead>\n",
              "    <tr style=\"text-align: right;\">\n",
              "      <th></th>\n",
              "      <th>Time</th>\n",
              "      <th>V1</th>\n",
              "      <th>V2</th>\n",
              "      <th>V3</th>\n",
              "      <th>V4</th>\n",
              "      <th>V5</th>\n",
              "      <th>V6</th>\n",
              "      <th>V7</th>\n",
              "      <th>V8</th>\n",
              "      <th>V9</th>\n",
              "      <th>V10</th>\n",
              "      <th>V11</th>\n",
              "      <th>V12</th>\n",
              "      <th>V13</th>\n",
              "      <th>V14</th>\n",
              "      <th>V15</th>\n",
              "      <th>V16</th>\n",
              "      <th>V17</th>\n",
              "      <th>V18</th>\n",
              "      <th>V19</th>\n",
              "      <th>V20</th>\n",
              "      <th>V21</th>\n",
              "      <th>V22</th>\n",
              "      <th>V23</th>\n",
              "      <th>V24</th>\n",
              "      <th>V25</th>\n",
              "      <th>V26</th>\n",
              "      <th>V27</th>\n",
              "      <th>V28</th>\n",
              "      <th>Amount</th>\n",
              "      <th>Class</th>\n",
              "    </tr>\n",
              "  </thead>\n",
              "  <tbody>\n",
              "    <tr>\n",
              "      <th>0</th>\n",
              "      <td>0.0</td>\n",
              "      <td>-1.359807</td>\n",
              "      <td>-0.072781</td>\n",
              "      <td>2.536347</td>\n",
              "      <td>1.378155</td>\n",
              "      <td>-0.338321</td>\n",
              "      <td>0.462388</td>\n",
              "      <td>0.239599</td>\n",
              "      <td>0.098698</td>\n",
              "      <td>0.363787</td>\n",
              "      <td>0.090794</td>\n",
              "      <td>-0.551600</td>\n",
              "      <td>-0.617801</td>\n",
              "      <td>-0.991390</td>\n",
              "      <td>-0.311169</td>\n",
              "      <td>1.468177</td>\n",
              "      <td>-0.470401</td>\n",
              "      <td>0.207971</td>\n",
              "      <td>0.025791</td>\n",
              "      <td>0.403993</td>\n",
              "      <td>0.251412</td>\n",
              "      <td>-0.018307</td>\n",
              "      <td>0.277838</td>\n",
              "      <td>-0.110474</td>\n",
              "      <td>0.066928</td>\n",
              "      <td>0.128539</td>\n",
              "      <td>-0.189115</td>\n",
              "      <td>0.133558</td>\n",
              "      <td>-0.021053</td>\n",
              "      <td>149.62</td>\n",
              "      <td>0</td>\n",
              "    </tr>\n",
              "    <tr>\n",
              "      <th>1</th>\n",
              "      <td>0.0</td>\n",
              "      <td>1.191857</td>\n",
              "      <td>0.266151</td>\n",
              "      <td>0.166480</td>\n",
              "      <td>0.448154</td>\n",
              "      <td>0.060018</td>\n",
              "      <td>-0.082361</td>\n",
              "      <td>-0.078803</td>\n",
              "      <td>0.085102</td>\n",
              "      <td>-0.255425</td>\n",
              "      <td>-0.166974</td>\n",
              "      <td>1.612727</td>\n",
              "      <td>1.065235</td>\n",
              "      <td>0.489095</td>\n",
              "      <td>-0.143772</td>\n",
              "      <td>0.635558</td>\n",
              "      <td>0.463917</td>\n",
              "      <td>-0.114805</td>\n",
              "      <td>-0.183361</td>\n",
              "      <td>-0.145783</td>\n",
              "      <td>-0.069083</td>\n",
              "      <td>-0.225775</td>\n",
              "      <td>-0.638672</td>\n",
              "      <td>0.101288</td>\n",
              "      <td>-0.339846</td>\n",
              "      <td>0.167170</td>\n",
              "      <td>0.125895</td>\n",
              "      <td>-0.008983</td>\n",
              "      <td>0.014724</td>\n",
              "      <td>2.69</td>\n",
              "      <td>0</td>\n",
              "    </tr>\n",
              "    <tr>\n",
              "      <th>2</th>\n",
              "      <td>1.0</td>\n",
              "      <td>-1.358354</td>\n",
              "      <td>-1.340163</td>\n",
              "      <td>1.773209</td>\n",
              "      <td>0.379780</td>\n",
              "      <td>-0.503198</td>\n",
              "      <td>1.800499</td>\n",
              "      <td>0.791461</td>\n",
              "      <td>0.247676</td>\n",
              "      <td>-1.514654</td>\n",
              "      <td>0.207643</td>\n",
              "      <td>0.624501</td>\n",
              "      <td>0.066084</td>\n",
              "      <td>0.717293</td>\n",
              "      <td>-0.165946</td>\n",
              "      <td>2.345865</td>\n",
              "      <td>-2.890083</td>\n",
              "      <td>1.109969</td>\n",
              "      <td>-0.121359</td>\n",
              "      <td>-2.261857</td>\n",
              "      <td>0.524980</td>\n",
              "      <td>0.247998</td>\n",
              "      <td>0.771679</td>\n",
              "      <td>0.909412</td>\n",
              "      <td>-0.689281</td>\n",
              "      <td>-0.327642</td>\n",
              "      <td>-0.139097</td>\n",
              "      <td>-0.055353</td>\n",
              "      <td>-0.059752</td>\n",
              "      <td>378.66</td>\n",
              "      <td>0</td>\n",
              "    </tr>\n",
              "    <tr>\n",
              "      <th>3</th>\n",
              "      <td>1.0</td>\n",
              "      <td>-0.966272</td>\n",
              "      <td>-0.185226</td>\n",
              "      <td>1.792993</td>\n",
              "      <td>-0.863291</td>\n",
              "      <td>-0.010309</td>\n",
              "      <td>1.247203</td>\n",
              "      <td>0.237609</td>\n",
              "      <td>0.377436</td>\n",
              "      <td>-1.387024</td>\n",
              "      <td>-0.054952</td>\n",
              "      <td>-0.226487</td>\n",
              "      <td>0.178228</td>\n",
              "      <td>0.507757</td>\n",
              "      <td>-0.287924</td>\n",
              "      <td>-0.631418</td>\n",
              "      <td>-1.059647</td>\n",
              "      <td>-0.684093</td>\n",
              "      <td>1.965775</td>\n",
              "      <td>-1.232622</td>\n",
              "      <td>-0.208038</td>\n",
              "      <td>-0.108300</td>\n",
              "      <td>0.005274</td>\n",
              "      <td>-0.190321</td>\n",
              "      <td>-1.175575</td>\n",
              "      <td>0.647376</td>\n",
              "      <td>-0.221929</td>\n",
              "      <td>0.062723</td>\n",
              "      <td>0.061458</td>\n",
              "      <td>123.50</td>\n",
              "      <td>0</td>\n",
              "    </tr>\n",
              "    <tr>\n",
              "      <th>4</th>\n",
              "      <td>2.0</td>\n",
              "      <td>-1.158233</td>\n",
              "      <td>0.877737</td>\n",
              "      <td>1.548718</td>\n",
              "      <td>0.403034</td>\n",
              "      <td>-0.407193</td>\n",
              "      <td>0.095921</td>\n",
              "      <td>0.592941</td>\n",
              "      <td>-0.270533</td>\n",
              "      <td>0.817739</td>\n",
              "      <td>0.753074</td>\n",
              "      <td>-0.822843</td>\n",
              "      <td>0.538196</td>\n",
              "      <td>1.345852</td>\n",
              "      <td>-1.119670</td>\n",
              "      <td>0.175121</td>\n",
              "      <td>-0.451449</td>\n",
              "      <td>-0.237033</td>\n",
              "      <td>-0.038195</td>\n",
              "      <td>0.803487</td>\n",
              "      <td>0.408542</td>\n",
              "      <td>-0.009431</td>\n",
              "      <td>0.798278</td>\n",
              "      <td>-0.137458</td>\n",
              "      <td>0.141267</td>\n",
              "      <td>-0.206010</td>\n",
              "      <td>0.502292</td>\n",
              "      <td>0.219422</td>\n",
              "      <td>0.215153</td>\n",
              "      <td>69.99</td>\n",
              "      <td>0</td>\n",
              "    </tr>\n",
              "  </tbody>\n",
              "</table>\n",
              "</div>"
            ],
            "text/plain": [
              "   Time        V1        V2        V3  ...       V27       V28  Amount  Class\n",
              "0   0.0 -1.359807 -0.072781  2.536347  ...  0.133558 -0.021053  149.62      0\n",
              "1   0.0  1.191857  0.266151  0.166480  ... -0.008983  0.014724    2.69      0\n",
              "2   1.0 -1.358354 -1.340163  1.773209  ... -0.055353 -0.059752  378.66      0\n",
              "3   1.0 -0.966272 -0.185226  1.792993  ...  0.062723  0.061458  123.50      0\n",
              "4   2.0 -1.158233  0.877737  1.548718  ...  0.219422  0.215153   69.99      0\n",
              "\n",
              "[5 rows x 31 columns]"
            ]
          },
          "metadata": {
            "tags": []
          },
          "execution_count": 6
        }
      ]
    },
    {
      "cell_type": "code",
      "metadata": {
        "id": "tdmhW2POwBY2",
        "colab": {
          "base_uri": "https://localhost:8080/"
        },
        "outputId": "6f7e82a8-163b-41cb-8978-6edff404d37a"
      },
      "source": [
        "df.shape"
      ],
      "execution_count": 7,
      "outputs": [
        {
          "output_type": "execute_result",
          "data": {
            "text/plain": [
              "(284807, 31)"
            ]
          },
          "metadata": {
            "tags": []
          },
          "execution_count": 7
        }
      ]
    },
    {
      "cell_type": "code",
      "metadata": {
        "id": "v_xF7OJCwBY4",
        "colab": {
          "base_uri": "https://localhost:8080/"
        },
        "outputId": "5a34b3da-95c1-42de-bc65-5d272747513d"
      },
      "source": [
        "tot =  df.shape[0]\n",
        "fraud = df[df['Class'] == 1].shape[0]\n",
        "print('Number of fraud transaction      = ', fraud)\n",
        "print('Percentage of fraud transaction  = ',round((fraud / tot)* 100, 4))"
      ],
      "execution_count": 8,
      "outputs": [
        {
          "output_type": "stream",
          "text": [
            "Number of fraud transaction      =  492\n",
            "Percentage of fraud transaction  =  0.1727\n"
          ],
          "name": "stdout"
        }
      ]
    },
    {
      "cell_type": "code",
      "metadata": {
        "id": "b1MWLK_-wBY5",
        "scrolled": true,
        "colab": {
          "base_uri": "https://localhost:8080/",
          "height": 594
        },
        "outputId": "adc5b602-3d39-483c-ac93-0d2c58097c29"
      },
      "source": [
        "temp = df.drop('Class', axis=1)\n",
        "ax = temp.hist(bins = 100, figsize = (10, 10))\n",
        "for axis in ax.flatten():\n",
        "    axis.set_xticklabels([])\n",
        "    axis.set_yticklabels([])\n",
        "plt.show()"
      ],
      "execution_count": 9,
      "outputs": [
        {
          "output_type": "display_data",
          "data": {
            "image/png": "[encoded data removed]",
            "text/plain": [
              "<Figure size 720x720 with 30 Axes>"
            ]
          },
          "metadata": {
            "tags": [],
            "needs_background": "light"
          }
        }
      ]
    },
    {
      "cell_type": "markdown",
      "metadata": {
        "id": "9IBNLhu-wBY7"
      },
      "source": [
        "most of them are gaussian, may be the data has been standardized "
      ]
    },
    {
      "cell_type": "code",
      "metadata": {
        "id": "-llvsko4wBY8",
        "colab": {
          "base_uri": "https://localhost:8080/"
        },
        "outputId": "2152f40c-29aa-49ba-a42a-37de3cdffd54"
      },
      "source": [
        "df['Amount'].describe()"
      ],
      "execution_count": 10,
      "outputs": [
        {
          "output_type": "execute_result",
          "data": {
            "text/plain": [
              "count    284807.000000\n",
              "mean         88.349619\n",
              "std         250.120109\n",
              "min           0.000000\n",
              "25%           5.600000\n",
              "50%          22.000000\n",
              "75%          77.165000\n",
              "max       25691.160000\n",
              "Name: Amount, dtype: float64"
            ]
          },
          "metadata": {
            "tags": []
          },
          "execution_count": 10
        }
      ]
    },
    {
      "cell_type": "code",
      "metadata": {
        "id": "O-WG5UIzwBY-",
        "colab": {
          "base_uri": "https://localhost:8080/",
          "height": 282
        },
        "outputId": "4430d4a3-f669-4ea1-88e4-a57787fb8881"
      },
      "source": [
        "ax = temp['Amount'].hist(bins=10)\n",
        "plt.show()\n",
        "perc = temp[temp['Amount'] > 1500].shape[0] / temp.shape[0] * 100\n",
        "print('Amounts greater than 1500 = ',  round(perc, 3),'%')"
      ],
      "execution_count": 11,
      "outputs": [
        {
          "output_type": "display_data",
          "data": {
            "image/png": "[encoded data removed]",
            "text/plain": [
              "<Figure size 432x288 with 1 Axes>"
            ]
          },
          "metadata": {
            "tags": [],
            "needs_background": "light"
          }
        },
        {
          "output_type": "stream",
          "text": [
            "Amounts greater than 1500 =  0.468 %\n"
          ],
          "name": "stdout"
        }
      ]
    },
    {
      "cell_type": "markdown",
      "metadata": {
        "id": "FVXhI1wXwBZB"
      },
      "source": [
        "We can see that there are very few outliers in Amounts feature"
      ]
    },
    {
      "cell_type": "code",
      "metadata": {
        "id": "31Ev8Ea9wBZC",
        "colab": {
          "base_uri": "https://localhost:8080/",
          "height": 279
        },
        "outputId": "62deb4ff-519a-447e-9b53-2f0d64966c82"
      },
      "source": [
        "fig, (ax1, ax2) = plt.subplots(ncols = 2, figsize=(10, 4))\n",
        "s = sns.boxplot(ax = ax1, x = \"Class\", y = \"Amount\", hue = \"Class\", data = df, palette = \"PRGn\",showfliers = True)\n",
        "s = sns.boxplot(ax = ax2, x = \"Class\", y = \"Amount\", hue = \"Class\", data = df, palette = \"PRGn\",showfliers = False)\n",
        "plt.show();"
      ],
      "execution_count": 12,
      "outputs": [
        {
          "output_type": "display_data",
          "data": {
            "image/png": "[encoded data removed]",
            "text/plain": [
              "<Figure size 720x288 with 2 Axes>"
            ]
          },
          "metadata": {
            "tags": [],
            "needs_background": "light"
          }
        }
      ]
    },
    {
      "cell_type": "code",
      "metadata": {
        "id": "PzAbRyF-wBZD",
        "colab": {
          "base_uri": "https://localhost:8080/",
          "height": 625
        },
        "outputId": "783e3536-ed45-44d4-ea33-0a15216a58c5"
      },
      "source": [
        "plt.figure(figsize = (10,10))\n",
        "corr = df.corr()\n",
        "sns.heatmap(corr, xticklabels = corr.columns, yticklabels = corr.columns, linewidths = .1, cmap=\"Greens\")\n",
        "plt.show()"
      ],
      "execution_count": 13,
      "outputs": [
        {
          "output_type": "display_data",
          "data": {
            "image/png": "[encoded data removed]",
            "text/plain": [
              "<Figure size 720x720 with 2 Axes>"
            ]
          },
          "metadata": {
            "tags": [],
            "needs_background": "light"
          }
        }
      ]
    },
    {
      "cell_type": "markdown",
      "metadata": {
        "id": "PpG6O-i_wBZE"
      },
      "source": [
        "There is no significant correlation between most of the features"
      ]
    },
    {
      "cell_type": "code",
      "metadata": {
        "id": "fbZvs1KB3u8b"
      },
      "source": [
        "import random \n",
        "from sklearn.model_selection import train_test_split\n",
        "from sklearn.model_selection import KFold\n",
        "from sklearn.metrics import roc_auc_score\n",
        "from sklearn.ensemble import RandomForestClassifier\n",
        "from sklearn.ensemble import AdaBoostClassifier\n",
        "from sklearn.neighbors import KNeighborsClassifier\n",
        "from sklearn import svm\n",
        "import xgboost as xgb\n",
        "\n",
        "from sklearn import svm, datasets\n",
        " \n",
        "from sklearn.model_selection import train_test_split\n",
        "from sklearn.model_selection import StratifiedKFold\n",
        "from sklearn.model_selection import GridSearchCV\n",
        "  "
      ],
      "execution_count": 32,
      "outputs": []
    },
    {
      "cell_type": "markdown",
      "metadata": {
        "id": "wBHQ_0O6wBZF"
      },
      "source": [
        "## Oversampling and XGB"
      ]
    },
    {
      "cell_type": "code",
      "metadata": {
        "id": "flJB0VsmwBZF"
      },
      "source": [
        "target = 'Class'\n",
        "features = ['Time', 'V1', 'V2', 'V3', 'V4', 'V5', 'V6', 'V7', 'V8', 'V9',\n",
        "            'V10','V11', 'V12', 'V13', 'V14', 'V15', 'V16', 'V17', 'V18',\n",
        "            'V19','V20', 'V21', 'V22', 'V23', 'V24', 'V25', 'V26', 'V27', \n",
        "            'V28','Amount']"
      ],
      "execution_count": 15,
      "outputs": []
    },
    {
      "cell_type": "code",
      "metadata": {
        "id": "mzndCyaiwBZG"
      },
      "source": [
        "X_train = df[features]\n",
        "y_train = df[target]"
      ],
      "execution_count": 16,
      "outputs": []
    },
    {
      "cell_type": "code",
      "metadata": {
        "id": "8uSSWrJVwBZI",
        "colab": {
          "base_uri": "https://localhost:8080/"
        },
        "outputId": "82eaf5e0-5ee1-434d-b9ac-94acb298bf17"
      },
      "source": [
        "from imblearn.over_sampling import SMOTE\n",
        "X_train_smote, y_train_smote = SMOTE(random_state=1234).fit_resample(X_train, y_train)\n",
        "smote_value_counts = np.count_nonzero(y_train_smote==1)\n",
        "print(\"Fraudulent transactions are %.2f%% of the test set.\" % (smote_value_counts * 100 / len(y_train_smote)))\n"
      ],
      "execution_count": 17,
      "outputs": [
        {
          "output_type": "stream",
          "text": [
            "/usr/local/lib/python3.7/dist-packages/sklearn/externals/six.py:31: FutureWarning: The module is deprecated in version 0.21 and will be removed in version 0.23 since we've dropped support for Python 2.7. Please rely on the official version of six (https://pypi.org/project/six/).\n",
            "  \"(https://pypi.org/project/six/).\", FutureWarning)\n",
            "/usr/local/lib/python3.7/dist-packages/sklearn/utils/deprecation.py:144: FutureWarning: The sklearn.neighbors.base module is  deprecated in version 0.22 and will be removed in version 0.24. The corresponding classes / functions should instead be imported from sklearn.neighbors. Anything that cannot be imported from sklearn.neighbors is now part of the private API.\n",
            "  warnings.warn(message, FutureWarning)\n",
            "/usr/local/lib/python3.7/dist-packages/sklearn/utils/deprecation.py:87: FutureWarning: Function safe_indexing is deprecated; safe_indexing is deprecated in version 0.22 and will be removed in version 0.24.\n",
            "  warnings.warn(msg, category=FutureWarning)\n"
          ],
          "name": "stderr"
        },
        {
          "output_type": "stream",
          "text": [
            "Fraudulent transactions are 50.00% of the test set.\n"
          ],
          "name": "stdout"
        }
      ]
    },
    {
      "cell_type": "code",
      "metadata": {
        "id": "Rq8Mmx9D44uB"
      },
      "source": [
        "def xgb_train(X, y, search_verbose=1):\n",
        "     \n",
        "    params = {\n",
        "        \"gamma\":[0.5, 1, 1.5],\n",
        "        \"max_depth\":[3, 4, 5],\n",
        "        \"learning_rate\": [0.1, 0.01, 0.001]\n",
        "    }\n",
        "     \n",
        "     \n",
        "    xgb = XGBClassifier(objective=\"binary:logistic\", eval_metric=\"auc\", use_label_encoder=False)\n",
        "  \n",
        "    skf = StratifiedKFold(n_splits=3, shuffle=True, random_state=1234)\n",
        "     \n",
        "    grid_search = GridSearchCV(estimator=xgb, param_grid=params, scoring=\"roc_auc\", n_jobs=1, cv=skf.split(X,y), verbose=search_verbose)\n",
        "  \n",
        "    grid_search.fit(X, y)\n",
        "  \n",
        "    print(\"Best estimator: \")\n",
        "    print(grid_search.best_estimator_)\n",
        "    print(\"Best Hyperparameters: \", grid_search.best_params_) \n",
        "    print(\"Highest AUC: %.2f\" % grid_search.best_score_)\n",
        "     \n",
        "    return grid_search.best_params_\n"
      ],
      "execution_count": 33,
      "outputs": []
    },
    {
      "cell_type": "code",
      "metadata": {
        "id": "Bw6oXUPWwBZI",
        "colab": {
          "base_uri": "https://localhost:8080/"
        },
        "outputId": "e5b296a6-3f58-43da-db2f-6bb6eeb9c02c"
      },
      "source": [
        "from xgboost import XGBClassifier\n",
        "rows = random.sample(np.arange(0,len(X_train_smote)).tolist(), 5000)\n",
        "model_params = xgb_train(X_train_smote[rows,], y_train_smote[rows,])"
      ],
      "execution_count": 34,
      "outputs": [
        {
          "output_type": "stream",
          "text": [
            "Fitting 3 folds for each of 27 candidates, totalling 81 fits\n"
          ],
          "name": "stdout"
        },
        {
          "output_type": "stream",
          "text": [
            "[Parallel(n_jobs=1)]: Using backend SequentialBackend with 1 concurrent workers.\n",
            "[Parallel(n_jobs=1)]: Done  81 out of  81 | elapsed:  1.3min finished\n"
          ],
          "name": "stderr"
        },
        {
          "output_type": "stream",
          "text": [
            "Best estimator: \n",
            "XGBClassifier(base_score=0.5, booster='gbtree', colsample_bylevel=1,\n",
            "              colsample_bynode=1, colsample_bytree=1, eval_metric='auc',\n",
            "              gamma=0.5, learning_rate=0.1, max_delta_step=0, max_depth=4,\n",
            "              min_child_weight=1, missing=None, n_estimators=100, n_jobs=1,\n",
            "              nthread=None, objective='binary:logistic', random_state=0,\n",
            "              reg_alpha=0, reg_lambda=1, scale_pos_weight=1, seed=None,\n",
            "              silent=None, subsample=1, use_label_encoder=False, verbosity=1)\n",
            "Best Hyperparameters:  {'gamma': 0.5, 'learning_rate': 0.1, 'max_depth': 4}\n",
            "Highest AUC: 1.00\n"
          ],
          "name": "stdout"
        }
      ]
    },
    {
      "cell_type": "code",
      "metadata": {
        "id": "GSJtGPFdOjAr",
        "colab": {
          "base_uri": "https://localhost:8080/"
        },
        "outputId": "7feb4106-96f5-43c5-f57b-2fa8baa65ef7"
      },
      "source": [
        "model = XGBClassifier(objective=\"binary:logistic\", eval_metric=\"auc\", use_label_encoder=False)\n",
        "model.set_params(**model_params)\n",
        "model.fit(X_train_smote, y_train_smote)"
      ],
      "execution_count": 36,
      "outputs": [
        {
          "output_type": "execute_result",
          "data": {
            "text/plain": [
              "XGBClassifier(base_score=0.5, booster='gbtree', colsample_bylevel=1,\n",
              "              colsample_bynode=1, colsample_bytree=1, eval_metric='auc',\n",
              "              gamma=0.5, learning_rate=0.1, max_delta_step=0, max_depth=4,\n",
              "              min_child_weight=1, missing=None, n_estimators=100, n_jobs=1,\n",
              "              nthread=None, objective='binary:logistic', random_state=0,\n",
              "              reg_alpha=0, reg_lambda=1, scale_pos_weight=1, seed=None,\n",
              "              silent=None, subsample=1, use_label_encoder=False, verbosity=1)"
            ]
          },
          "metadata": {
            "tags": []
          },
          "execution_count": 36
        }
      ]
    },
    {
      "cell_type": "code",
      "metadata": {
        "id": "gXecTqkBMVui"
      },
      "source": [
        "train_df, test_df  = train_test_split(df, test_size = .2, random_state = 2021, shuffle = True )\n",
        "\n",
        "train_df, valid_df = train_test_split(train_df, test_size = .2, random_state = 9, shuffle = True )\n"
      ],
      "execution_count": 44,
      "outputs": []
    },
    {
      "cell_type": "code",
      "metadata": {
        "id": "1YD3Y51rLb7J"
      },
      "source": [
        "model_preds = model.predict(test_df[features].values)"
      ],
      "execution_count": 45,
      "outputs": []
    },
    {
      "cell_type": "code",
      "metadata": {
        "colab": {
          "base_uri": "https://localhost:8080/"
        },
        "id": "6fyK3Fd1MJRm",
        "outputId": "d669bf96-8bd0-49da-e911-21ef4cdad970"
      },
      "source": [
        "roc_auc_score(test_df[target].values, model_preds)"
      ],
      "execution_count": 46,
      "outputs": [
        {
          "output_type": "execute_result",
          "data": {
            "text/plain": [
              "0.9884973508817674"
            ]
          },
          "metadata": {
            "tags": []
          },
          "execution_count": 46
        }
      ]
    },
    {
      "cell_type": "markdown",
      "metadata": {
        "id": "cQ_blSMlwBZJ"
      },
      "source": [
        "# Other models"
      ]
    },
    {
      "cell_type": "markdown",
      "metadata": {
        "id": "9PbyJaz-wBZL"
      },
      "source": [
        "\n",
        "## Random Forest Classifier"
      ]
    },
    {
      "cell_type": "code",
      "metadata": {
        "id": "VQvU_mxmwBZM"
      },
      "source": [
        "RFclf = RandomForestClassifier(n_jobs = 4, \n",
        "                             random_state = 45,\n",
        "                             criterion = 'gini',\n",
        "                             n_estimators = 100,\n",
        "                             verbose = False)"
      ],
      "execution_count": 47,
      "outputs": []
    },
    {
      "cell_type": "code",
      "metadata": {
        "id": "hUkgzm1awBZM",
        "colab": {
          "base_uri": "https://localhost:8080/"
        },
        "outputId": "6ce88a58-fbef-47a7-ac03-0c67095279fc"
      },
      "source": [
        "RFclf.fit(train_df[features], train_df[target].values)"
      ],
      "execution_count": 48,
      "outputs": [
        {
          "output_type": "execute_result",
          "data": {
            "text/plain": [
              "RandomForestClassifier(bootstrap=True, ccp_alpha=0.0, class_weight=None,\n",
              "                       criterion='gini', max_depth=None, max_features='auto',\n",
              "                       max_leaf_nodes=None, max_samples=None,\n",
              "                       min_impurity_decrease=0.0, min_impurity_split=None,\n",
              "                       min_samples_leaf=1, min_samples_split=2,\n",
              "                       min_weight_fraction_leaf=0.0, n_estimators=100, n_jobs=4,\n",
              "                       oob_score=False, random_state=45, verbose=False,\n",
              "                       warm_start=False)"
            ]
          },
          "metadata": {
            "tags": []
          },
          "execution_count": 48
        }
      ]
    },
    {
      "cell_type": "code",
      "metadata": {
        "id": "_Aex9WGvwBZN"
      },
      "source": [
        "RFpreds = RFclf.predict(valid_df[features])"
      ],
      "execution_count": 49,
      "outputs": []
    },
    {
      "cell_type": "code",
      "metadata": {
        "id": "Tsq7-RM2wBZN",
        "colab": {
          "base_uri": "https://localhost:8080/",
          "height": 324
        },
        "outputId": "96e2b5bb-c386-4090-ea89-575ca1d72ba6"
      },
      "source": [
        "# Feature Importance\n",
        "\n",
        "def plot_feat_imp(clf, model_name, ):\n",
        "    tmp = pd.DataFrame({'Feature': features, 'Feature importance': clf.feature_importances_})\n",
        "    tmp = tmp.sort_values(by='Feature importance',ascending = False)\n",
        "    plt.figure(figsize = (8,4))\n",
        "    plt.title(model_name + ' Feature Importance', fontsize = 12)\n",
        "    s = sns.barplot(x = 'Feature', y = 'Feature importance', data=tmp)\n",
        "    s.set_xticklabels(s.get_xticklabels(), rotation=90)\n",
        "    plt.show()   \n",
        "    \n",
        "plot_feat_imp(RFclf, 'RFC')"
      ],
      "execution_count": 50,
      "outputs": [
        {
          "output_type": "display_data",
          "data": {
            "image/png": "[encoded data removed]",
            "text/plain": [
              "<Figure size 576x288 with 1 Axes>"
            ]
          },
          "metadata": {
            "tags": [],
            "needs_background": "light"
          }
        }
      ]
    },
    {
      "cell_type": "code",
      "metadata": {
        "id": "5BgtGSWRwBZO",
        "colab": {
          "base_uri": "https://localhost:8080/",
          "height": 296
        },
        "outputId": "8c0f5849-2580-4afa-a935-7425bf485d73"
      },
      "source": [
        "def plot_conf_mat(preds, model_name) :\n",
        "    cm = pd.crosstab(valid_df[target].values, preds, rownames=['Actual'], colnames = ['Prediction'])\n",
        "    fig, (ax1) = plt.subplots(ncols = 1, figsize=(4, 4))\n",
        "    sns.heatmap(cm, \n",
        "                xticklabels = ['Not Fraud', 'Fraud'],\n",
        "                yticklabels = ['Not Fraud', 'Fraud'],\n",
        "                annot = True,ax = ax1,\n",
        "                linewidths = .2, linecolor = \"Black\", cmap = \"Reds\")\n",
        "    plt.title(model_name + ' Confusion Matrix', fontsize=14)\n",
        "    plt.show()\n",
        "plot_conf_mat(RFpreds, 'RFC')"
      ],
      "execution_count": 51,
      "outputs": [
        {
          "output_type": "display_data",
          "data": {
            "image/png": "[encoded data removed]",
            "text/plain": [
              "<Figure size 288x288 with 2 Axes>"
            ]
          },
          "metadata": {
            "tags": [],
            "needs_background": "light"
          }
        }
      ]
    },
    {
      "cell_type": "code",
      "metadata": {
        "id": "8JOwVGebwBZP",
        "colab": {
          "base_uri": "https://localhost:8080/"
        },
        "outputId": "0f00016f-39a7-49a6-c030-aa24408a508a"
      },
      "source": [
        "roc_auc_score(valid_df[target].values, RFpreds)"
      ],
      "execution_count": 52,
      "outputs": [
        {
          "output_type": "execute_result",
          "data": {
            "text/plain": [
              "0.8888009362074314"
            ]
          },
          "metadata": {
            "tags": []
          },
          "execution_count": 52
        }
      ]
    },
    {
      "cell_type": "markdown",
      "metadata": {
        "id": "aCe8G5oswBZQ"
      },
      "source": [
        "## AdaBoost Classifier"
      ]
    },
    {
      "cell_type": "code",
      "metadata": {
        "id": "ceIO6EbgwBZQ"
      },
      "source": [
        "ABclf = AdaBoostClassifier(random_state = 1, algorithm='SAMME.R', learning_rate=0.8, n_estimators = 100)"
      ],
      "execution_count": 53,
      "outputs": []
    },
    {
      "cell_type": "code",
      "metadata": {
        "id": "1XHt6Iw1wBZR",
        "colab": {
          "base_uri": "https://localhost:8080/"
        },
        "outputId": "11109938-870a-41f0-8d40-3daea7fd3382"
      },
      "source": [
        "ABclf.fit(train_df[features], train_df[target].values)"
      ],
      "execution_count": 54,
      "outputs": [
        {
          "output_type": "execute_result",
          "data": {
            "text/plain": [
              "AdaBoostClassifier(algorithm='SAMME.R', base_estimator=None, learning_rate=0.8,\n",
              "                   n_estimators=100, random_state=1)"
            ]
          },
          "metadata": {
            "tags": []
          },
          "execution_count": 54
        }
      ]
    },
    {
      "cell_type": "code",
      "metadata": {
        "id": "vsoPE-5ZwBZR",
        "colab": {
          "base_uri": "https://localhost:8080/",
          "height": 324
        },
        "outputId": "fc684429-9687-496e-f775-85b14824ccf7"
      },
      "source": [
        "plot_feat_imp(ABclf, 'AdaBoost')"
      ],
      "execution_count": 55,
      "outputs": [
        {
          "output_type": "display_data",
          "data": {
            "image/png": "[encoded data removed]",
            "text/plain": [
              "<Figure size 576x288 with 1 Axes>"
            ]
          },
          "metadata": {
            "tags": [],
            "needs_background": "light"
          }
        }
      ]
    },
    {
      "cell_type": "code",
      "metadata": {
        "id": "ASeTzyI7wBZS",
        "colab": {
          "base_uri": "https://localhost:8080/",
          "height": 296
        },
        "outputId": "802f9bcf-a0b0-458a-f9b4-2aa5c098fcbd"
      },
      "source": [
        "ABpreds = ABclf.predict(valid_df[features])\n",
        "plot_conf_mat(ABpreds, 'AdaBoost')"
      ],
      "execution_count": 56,
      "outputs": [
        {
          "output_type": "display_data",
          "data": {
            "image/png": "[encoded data removed]",
            "text/plain": [
              "<Figure size 288x288 with 2 Axes>"
            ]
          },
          "metadata": {
            "tags": [],
            "needs_background": "light"
          }
        }
      ]
    },
    {
      "cell_type": "code",
      "metadata": {
        "id": "DC2bvSA8wBZS",
        "colab": {
          "base_uri": "https://localhost:8080/"
        },
        "outputId": "c5b3e341-5ad2-4649-9374-1eb0b633bed9"
      },
      "source": [
        "roc_auc_score(valid_df[target].values, ABpreds)"
      ],
      "execution_count": 57,
      "outputs": [
        {
          "output_type": "execute_result",
          "data": {
            "text/plain": [
              "0.8665127494741163"
            ]
          },
          "metadata": {
            "tags": []
          },
          "execution_count": 57
        }
      ]
    },
    {
      "cell_type": "code",
      "metadata": {
        "id": "d1vAaHkfwBZT"
      },
      "source": [
        "ABpreds = ABclf.predict(test_df[features])"
      ],
      "execution_count": 58,
      "outputs": []
    },
    {
      "cell_type": "code",
      "metadata": {
        "id": "MiV-SpfXwBZT",
        "colab": {
          "base_uri": "https://localhost:8080/"
        },
        "outputId": "b9ff669d-1c55-4470-c69b-bde5d23639fe"
      },
      "source": [
        "roc_auc_score(test_df[target].values, ABpreds)"
      ],
      "execution_count": 59,
      "outputs": [
        {
          "output_type": "execute_result",
          "data": {
            "text/plain": [
              "0.8639985267593471"
            ]
          },
          "metadata": {
            "tags": []
          },
          "execution_count": 59
        }
      ]
    },
    {
      "cell_type": "markdown",
      "metadata": {
        "id": "u-SfW1m3wBZU"
      },
      "source": [
        "## XGBoost Classifier"
      ]
    },
    {
      "cell_type": "code",
      "metadata": {
        "id": "8hJ3qPpqwBZU"
      },
      "source": [
        "dtrain = xgb.DMatrix(train_df[features], train_df[target].values)\n",
        "dvalid = xgb.DMatrix(valid_df[features], valid_df[target].values)\n",
        "dtest = xgb.DMatrix(test_df[features], test_df[target].values)\n",
        "\n",
        "watchlist = [(dtrain, 'train'), (dvalid, 'valid')]\n",
        "\n",
        "# xgboost parameters\n",
        "params = {}\n",
        "params['objective'] = 'binary:logistic'\n",
        "params['eta'] = 0.039\n",
        "params['silent'] = True\n",
        "params['max_depth'] = 2\n",
        "params['subsample'] = 0.8\n",
        "params['colsample_bytree'] = 0.9\n",
        "params['eval_metric'] = 'auc'\n",
        "params['random_state'] = 1"
      ],
      "execution_count": 60,
      "outputs": []
    },
    {
      "cell_type": "code",
      "metadata": {
        "id": "IwC43RIiwBZU",
        "colab": {
          "base_uri": "https://localhost:8080/"
        },
        "outputId": "d847c64d-00f3-4f98-f6ca-1c1348ec379a"
      },
      "source": [
        "model = xgb.train(params, \n",
        "                dtrain, \n",
        "                1000, \n",
        "                watchlist, \n",
        "                early_stopping_rounds = 50, \n",
        "                maximize = True, \n",
        "                verbose_eval = 50)"
      ],
      "execution_count": 61,
      "outputs": [
        {
          "output_type": "stream",
          "text": [
            "[0]\ttrain-auc:0.871118\tvalid-auc:0.849777\n",
            "Multiple eval metrics have been passed: 'valid-auc' will be used for early stopping.\n",
            "\n",
            "Will train until valid-auc hasn't improved in 50 rounds.\n",
            "[50]\ttrain-auc:0.919432\tvalid-auc:0.927437\n",
            "Stopping. Best iteration:\n",
            "[34]\ttrain-auc:0.917869\tvalid-auc:0.927521\n",
            "\n"
          ],
          "name": "stdout"
        }
      ]
    },
    {
      "cell_type": "code",
      "metadata": {
        "id": "Dg3lbfvYwBZV",
        "colab": {
          "base_uri": "https://localhost:8080/",
          "height": 350
        },
        "outputId": "6d94ecd6-668f-4315-b883-2dc71f0c1656"
      },
      "source": [
        "fig, (ax) = plt.subplots(ncols=1, figsize=(8,5))\n",
        "xgb.plot_importance(model, height=0.8, title=\"XGB Features importance\", ax=ax, color=\"green\") \n",
        "plt.show()"
      ],
      "execution_count": 62,
      "outputs": [
        {
          "output_type": "display_data",
          "data": {
            "image/png": "[encoded data removed]",
            "text/plain": [
              "<Figure size 576x360 with 1 Axes>"
            ]
          },
          "metadata": {
            "tags": [],
            "needs_background": "light"
          }
        }
      ]
    },
    {
      "cell_type": "code",
      "metadata": {
        "id": "gjLfV_cWwBZV"
      },
      "source": [
        "XGBpreds = model.predict(dtest)"
      ],
      "execution_count": 63,
      "outputs": []
    },
    {
      "cell_type": "code",
      "metadata": {
        "id": "DK-K5ZNnwBZW",
        "colab": {
          "base_uri": "https://localhost:8080/"
        },
        "outputId": "7532af0c-e145-4736-da86-5aa263ee62ec"
      },
      "source": [
        "roc_auc_score(test_df[target].values, XGBpreds)"
      ],
      "execution_count": 64,
      "outputs": [
        {
          "output_type": "execute_result",
          "data": {
            "text/plain": [
              "0.9266867265081039"
            ]
          },
          "metadata": {
            "tags": []
          },
          "execution_count": 64
        }
      ]
    }
  ]
}